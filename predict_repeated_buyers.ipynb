{
 "cells": [
  {
   "cell_type": "markdown",
   "metadata": {},
   "source": [
    "## 1. Data Cleaning"
   ]
  },
  {
   "cell_type": "code",
   "execution_count": null,
   "metadata": {},
   "outputs": [],
   "source": [
    "import pandas as pd"
   ]
  },
  {
   "cell_type": "code",
   "execution_count": 116,
   "metadata": {},
   "outputs": [],
   "source": [
    "DOUBLE11_DAY = 184\n",
    "\n",
    "DIR_1 = 'data_format1/'\n",
    "DIR_2 = 'data_format2/'\n",
    "\n",
    "PATH_TRAIN = DIR_1 + 'train_format1.csv'\n",
    "PATH_TEST = DIR_1 + 'test_format1.csv'\n",
    "PATH_USER_INFO = DIR_1 + 'user_info_format1.csv'\n",
    "PATH_USER_LOG = DIR_1 + 'user_log_format1.csv'"
   ]
  },
  {
   "cell_type": "code",
   "execution_count": 117,
   "metadata": {},
   "outputs": [],
   "source": [
    "df_train = pd.read_csv(PATH_TRAIN)    \n",
    "df_test = pd.read_csv(PATH_TEST) # this data has nan for the probabilities, the task is to predict the nan values. \n",
    "df_user_info = pd.read_csv(PATH_USER_INFO)\n",
    "df_user_log = pd.read_csv(PATH_USER_LOG)"
   ]
  },
  {
   "cell_type": "code",
   "execution_count": 118,
   "metadata": {},
   "outputs": [
    {
     "name": "stdout",
     "output_type": "stream",
     "text": [
      "   user_id  merchant_id  label\n",
      "0    34176         3906      0\n",
      "1    34176          121      0\n",
      "2    34176         4356      1\n",
      "3    34176         2217      0\n",
      "4   230784         4818      0\n"
     ]
    }
   ],
   "source": [
    "print(df_train.head()) "
   ]
  },
  {
   "cell_type": "code",
   "execution_count": 119,
   "metadata": {},
   "outputs": [
    {
     "name": "stdout",
     "output_type": "stream",
     "text": [
      "   user_id  merchant_id  prob\n",
      "0   163968         4605   NaN\n",
      "1   360576         1581   NaN\n",
      "2    98688         1964   NaN\n",
      "3    98688         3645   NaN\n",
      "4   295296         3361   NaN\n"
     ]
    }
   ],
   "source": [
    "print(df_test.head()) "
   ]
  },
  {
   "cell_type": "code",
   "execution_count": 120,
   "metadata": {},
   "outputs": [
    {
     "name": "stdout",
     "output_type": "stream",
     "text": [
      "   user_id  age_range  gender\n",
      "0   376517        6.0     1.0\n",
      "1   234512        5.0     0.0\n",
      "2   344532        5.0     0.0\n",
      "3   186135        5.0     0.0\n",
      "4    30230        5.0     0.0\n"
     ]
    }
   ],
   "source": [
    "print(df_user_info.head()) "
   ]
  },
  {
   "cell_type": "code",
   "execution_count": 121,
   "metadata": {},
   "outputs": [
    {
     "name": "stdout",
     "output_type": "stream",
     "text": [
      "   user_id  item_id  cat_id  seller_id  brand_id  time_stamp  action_type\n",
      "0   328862   323294     833       2882    2661.0         829            0\n",
      "1   328862   844400    1271       2882    2661.0         829            0\n",
      "2   328862   575153    1271       2882    2661.0         829            0\n",
      "3   328862   996875    1271       2882    2661.0         829            0\n",
      "4   328862  1086186    1271       1253    1049.0         829            0\n"
     ]
    }
   ],
   "source": [
    "print(df_user_log.head())"
   ]
  },
  {
   "cell_type": "code",
   "execution_count": 122,
   "metadata": {},
   "outputs": [],
   "source": [
    "memory_original = df_user_log.memory_usage().sum() / 2**30"
   ]
  },
  {
   "cell_type": "code",
   "execution_count": 123,
   "metadata": {},
   "outputs": [],
   "source": [
    "df_user_log['brand_id'].fillna(0, inplace=True) #has nan values and decimals, no values equal to 0 (can use 0 as nan)\n",
    "df_user_log['time_stamp']  = (pd.to_datetime(df_user_log['time_stamp'], format='%m%d') - pd.to_datetime(df_user_log['time_stamp'].min(), format= '%m%d')).dt.days # adds uneceary year (1900) but we want the benefits of the datetime operations.\n",
    "#after we get a number of days from the earliest date in the dataset. It is just an int that is easy to work with. "
   ]
  },
  {
   "cell_type": "code",
   "execution_count": 124,
   "metadata": {},
   "outputs": [],
   "source": [
    "df_user_log['user_id'] = df_user_log['user_id'].astype('int32') # reduce memory usage and speed up calculations\n",
    "df_user_log['item_id'] = df_user_log['item_id'].astype('int32')\n",
    "df_user_log['cat_id'] = df_user_log['cat_id'].astype('int16')\n",
    "df_user_log['seller_id'] = df_user_log['seller_id'].astype('int16')\n",
    "df_user_log['brand_id'] = df_user_log['brand_id'].astype('int16')\n",
    "df_user_log['time_stamp'] = df_user_log['time_stamp'].astype('int16')\n",
    "df_user_log['action_type'] = df_user_log['action_type'].astype('int8')"
   ]
  },
  {
   "cell_type": "code",
   "execution_count": 126,
   "metadata": {},
   "outputs": [
    {
     "name": "stdout",
     "output_type": "stream",
     "text": [
      "0.87 GB (1.99 GB saved)\n"
     ]
    }
   ],
   "source": [
    "memory_optimized = round(df_user_log.memory_usage().sum() / 2**30,2)\n",
    "memory_saved = round((memory_original - memory_optimized), 2)\n",
    "print(f'{memory_optimized} GB ({memory_saved} GB saved)')"
   ]
  },
  {
   "cell_type": "code",
   "execution_count": 127,
   "metadata": {},
   "outputs": [],
   "source": [
    "df_user_info['gender'].fillna(2, inplace=True) #0 for female, 1 for male, 2 and NULL for unknown.\n",
    "df_user_info['gender'] = df_user_info['gender'].astype(np.int8)\n",
    "df_user_info['age_range'].fillna(0, inplace=True) # 1 for <18; 2 for [18,24]; 3 for [25,29]; 4 for [30,34]; 5 for [35,39]; 6 for [40,49]; 7 and 8 for >= 50; 0 and NULL for unknown.\n",
    "df_user_info['age_range'] = df_user_info['age_range'].astype(np.int8)\n",
    "df_user_info['user_id'] = df_user_info['user_id'].astype(np.int32)"
   ]
  },
  {
   "cell_type": "markdown",
   "metadata": {},
   "source": [
    "## 2. Feature Engineering"
   ]
  },
  {
   "cell_type": "markdown",
   "metadata": {},
   "source": [
    "## 3. Training"
   ]
  },
  {
   "cell_type": "markdown",
   "metadata": {},
   "source": [
    "## 4. Predicting "
   ]
  }
 ],
 "metadata": {
  "kernelspec": {
   "display_name": "base",
   "language": "python",
   "name": "python3"
  },
  "language_info": {
   "codemirror_mode": {
    "name": "ipython",
    "version": 3
   },
   "file_extension": ".py",
   "mimetype": "text/x-python",
   "name": "python",
   "nbconvert_exporter": "python",
   "pygments_lexer": "ipython3",
   "version": "3.9.13"
  }
 },
 "nbformat": 4,
 "nbformat_minor": 2
}
